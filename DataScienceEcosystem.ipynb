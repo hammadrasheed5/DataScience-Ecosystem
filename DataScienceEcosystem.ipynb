{
 "cells": [
  {
   "cell_type": "markdown",
   "metadata": {},
   "source": [
    "<center>\n",
    "    <img src=\"https://cf-courses-data.s3.us.cloud-object-storage.appdomain.cloud/IBMDeveloperSkillsNetwork-DS0105EN-SkillsNetwork/labs/Module2/images/SN_web_lightmode.png\" width=\"300\" alt=\"cognitiveclass.ai logo\">\n",
    "</center>\n"
   ]
  },
  {
   "cell_type": "markdown",
   "metadata": {},
   "source": [
    "# Data Science Tools and Ecosystem\n",
    "Data science is an interdisciplinary field that combines statistics, programming, and domain knowledge to extract insights from data. As organizations increasingly rely on data-driven decision-making, mastering the fundamentals of data science has become essential. This notebook will guide you through the basics, tools, and techniques to kickstart your journey in data science."
   ]
  },
  {
   "cell_type": "markdown",
   "metadata": {},
   "source": [
    "# Introduction: \n",
    "In this notebook, Data Science Tools and Ecosystem are summarized."
   ]
  },
  {
   "cell_type": "markdown",
   "metadata": {},
   "source": [
    "**Objectives:**\n",
    "\n",
    "- List popular languages for Data Science.\n",
    "- Identify commonly used libraries in data science.\n",
    "- Understand basic arithmetic operations in Python.\n",
    "- Convert units, such as minutes to hours.\n",
    "- Explore essential data science tools and environments."
   ]
  },
  {
   "cell_type": "markdown",
   "metadata": {},
   "source": [
    "Some of the popular languages that Data Scientists use are:\n",
    "\n",
    "1. **Python**: Known for its simplicity and extensive libraries for data analysis and machine learning.\n",
    "2. **R**: A language specifically designed for statistics and data visualization.\n",
    "3. **SQL**: Essential for managing and querying relational databases.\n",
    "4. **Java**: Often used in large-scale data processing and machine learning applications.\n",
    "5. **Scala**: Commonly used with Apache Spark for big data processing."
   ]
  },
  {
   "cell_type": "markdown",
   "metadata": {},
   "source": [
    "Some of the commonly used libraries by Data Scientists include:\n",
    "\n",
    "1. **Pandas**: A powerful library for data manipulation and analysis, providing data structures like DataFrames.\n",
    "2. **NumPy**: Essential for numerical computations, offering support for arrays and a variety of mathematical functions.\n",
    "3. **Scikit-learn**: A comprehensive library for machine learning, providing tools for classification, regression, and clustering.\n",
    "4. **Matplotlib**: A plotting library used for creating static, interactive, and animated visualizations in Python.\n",
    "5. **TensorFlow**: An open-source library for numerical computation and machine learning, particularly for deep learning applications."
   ]
  },
  {
   "cell_type": "markdown",
   "metadata": {},
   "source": [
    "| Data Sceince Tools       |\n",
    "|--------------------------|\n",
    "| RStudio                  |\n",
    "| Jupyter Notebook         |\n",
    "| Apache Zeppelin          |"
   ]
  },
  {
   "cell_type": "markdown",
   "metadata": {},
   "source": [
    "# Arithmetic Expression Examples\n",
    "\n",
    "### Below are a few examples of evaluating arithmetic expressions in Python.\n",
    "\n",
    "Arithmetic expresions are fundamental in programing and data anlysis. They allow us to perform calculations and manipulate data effectively. Here are some common operations:\n",
    "\n",
    "- Addition\n",
    "- Subtraction\n",
    "- Multiplication\n",
    "- Division\n",
    "\n",
    "## Examples\n",
    "\n",
    "1. **Addition**:  \n",
    "   ```python\n",
    "   result = 2 + 1  # result is 3\n",
    "2. **Subtraction**:\n",
    "   ```python\n",
    "   result = 15 - 4  # result is 11\n",
    "3. **Multiplication**:\n",
    "   ```Python\n",
    "   result = 8 * 5  # result is 40\n",
    "4. **Division**:\n",
    "   ```python\n",
    "   result = 15 / 3  # result is 5.0\n",
    "5. **Modulus**:\n",
    "   ```puthon\n",
    "   result = 9 % 4  # result is 1\n",
    "   "
   ]
  },
  {
   "cell_type": "code",
   "execution_count": 4,
   "metadata": {},
   "outputs": [
    {
     "name": "stdout",
     "output_type": "stream",
     "text": [
      "17\n"
     ]
    }
   ],
   "source": [
    "# This is a  arithmetic expression to multiply then add numbers.\n",
    "result = (3 * 4) + 5\n",
    "\n",
    "# result print here\n",
    "print(result)\n"
   ]
  },
  {
   "cell_type": "code",
   "execution_count": 5,
   "metadata": {},
   "outputs": [
    {
     "name": "stdout",
     "output_type": "stream",
     "text": [
      "200 minutes is equal to 3.3333333333333335 hours.\n"
     ]
    }
   ],
   "source": [
    "# This will convert 200 minutes to hours by dividing by 60.\n",
    "minutes = 200\n",
    "hours = minutes / 60\n",
    "\n",
    "# Print the result\n",
    "print(f\"{minutes} minutes is equal to {hours} hours.\")"
   ]
  },
  {
   "cell_type": "markdown",
   "metadata": {},
   "source": [
    "# Objectives\n",
    "\n",
    "In this notebook, we aim to achieve the following objectives:\n",
    "\n",
    "1. **Understand Basic Concepts**: Gain a foundational understanding of key concepts in data science.\n",
    "2. **Learn Data Manipulation**: Explore techniques for manipulating and analyzing data using Python and its libraries.\n",
    "3. **Perform Calculations**: Apply arithmetic operations to solve practical problems.\n",
    "4. **Convert Units**: Implement functions to convert between different units of measurement, such as minutes to hours.\n",
    "5. **Visualize Data**: Create visualizations to represent data effectively and draw insights."
   ]
  },
  {
   "cell_type": "markdown",
   "metadata": {},
   "source": [
    "## Author\n",
    "\n",
    "Hamad Rashid"
   ]
  }
 ],
 "metadata": {
  "kernelspec": {
   "display_name": "Python 3 (ipykernel)",
   "language": "python",
   "name": "python3"
  },
  "language_info": {
   "codemirror_mode": {
    "name": "ipython",
    "version": 3
   },
   "file_extension": ".py",
   "mimetype": "text/x-python",
   "name": "python",
   "nbconvert_exporter": "python",
   "pygments_lexer": "ipython3",
   "version": "3.11.9"
  }
 },
 "nbformat": 4,
 "nbformat_minor": 4
}
